{
 "cells": [
  {
   "cell_type": "code",
   "execution_count": 1,
   "id": "a422e085",
   "metadata": {},
   "outputs": [
    {
     "name": "stdout",
     "output_type": "stream",
     "text": [
      "Coding\n"
     ]
    }
   ],
   "source": [
    "print(\"Coding\")"
   ]
  },
  {
   "cell_type": "code",
   "execution_count": 2,
   "id": "6dab36aa",
   "metadata": {},
   "outputs": [
    {
     "name": "stdout",
     "output_type": "stream",
     "text": [
      "Coding\n"
     ]
    }
   ],
   "source": [
    "print('Coding')"
   ]
  },
  {
   "cell_type": "code",
   "execution_count": null,
   "id": "cc2930b3",
   "metadata": {},
   "outputs": [
    {
     "ename": "_IncompleteInputError",
     "evalue": "incomplete input (3000256978.py, line 1)",
     "output_type": "error",
     "traceback": [
      "  \u001b[36mCell\u001b[39m\u001b[36m \u001b[39m\u001b[32mIn[4]\u001b[39m\u001b[32m, line 1\u001b[39m\n\u001b[31m    \u001b[39m\u001b[31mprint('Coding'\u001b[39m\n                  ^\n\u001b[31m_IncompleteInputError\u001b[39m\u001b[31m:\u001b[39m incomplete input\n"
     ]
    }
   ],
   "source": [
    "print('Coding' #오류메세지를 경고라고 생각하지 말고 '친근하게 알려주는 친구, 선생님 생각'"
   ]
  },
  {
   "cell_type": "code",
   "execution_count": 5,
   "id": "57ed7529",
   "metadata": {},
   "outputs": [
    {
     "ename": "SyntaxError",
     "evalue": "unterminated string literal (detected at line 1) (312699101.py, line 1)",
     "output_type": "error",
     "traceback": [
      "  \u001b[36mCell\u001b[39m\u001b[36m \u001b[39m\u001b[32mIn[5]\u001b[39m\u001b[32m, line 1\u001b[39m\n\u001b[31m    \u001b[39m\u001b[31mprint('Coding\")\u001b[39m\n          ^\n\u001b[31mSyntaxError\u001b[39m\u001b[31m:\u001b[39m unterminated string literal (detected at line 1)\n"
     ]
    }
   ],
   "source": [
    "print('Coding\")"
   ]
  },
  {
   "cell_type": "code",
   "execution_count": 6,
   "id": "d2797593",
   "metadata": {},
   "outputs": [
    {
     "ename": "SyntaxError",
     "evalue": "unterminated string literal (detected at line 1) (3942334839.py, line 1)",
     "output_type": "error",
     "traceback": [
      "  \u001b[36mCell\u001b[39m\u001b[36m \u001b[39m\u001b[32mIn[6]\u001b[39m\u001b[32m, line 1\u001b[39m\n\u001b[31m    \u001b[39m\u001b[31mprint(\"Coding')\u001b[39m\n          ^\n\u001b[31mSyntaxError\u001b[39m\u001b[31m:\u001b[39m unterminated string literal (detected at line 1)\n"
     ]
    }
   ],
   "source": [
    "print(\"Coding')"
   ]
  },
  {
   "cell_type": "code",
   "execution_count": null,
   "id": "c58f8082",
   "metadata": {},
   "outputs": [
    {
     "name": "stdout",
     "output_type": "stream",
     "text": [
      "잘잤어?\n",
      "밥먹었어?\n",
      "퇴근했어?\n"
     ]
    }
   ],
   "source": [
    "# 코드 실행 순서\n",
    "print(\"잘잤어?\")\n",
    "print(\"밥먹었어?\")\n",
    "print(\"퇴근했어?\") #주석 처리 : ctrl + /"
   ]
  },
  {
   "cell_type": "code",
   "execution_count": 8,
   "id": "dc8291a1",
   "metadata": {},
   "outputs": [
    {
     "name": "stdout",
     "output_type": "stream",
     "text": [
      "치즈케이크, 마카롱, 쿠키\n"
     ]
    }
   ],
   "source": [
    "#여러 항목 출력\n",
    "print(\"치즈케이크, 마카롱, 쿠키\")"
   ]
  },
  {
   "cell_type": "code",
   "execution_count": null,
   "id": "b607d366",
   "metadata": {},
   "outputs": [],
   "source": [
    "#문자열\n",
    "'Coding'\n",
    "\"Coding\" #주피터 노트북은 기본적으로 print 명령을 실행. 단 맨아래줄 만"
   ]
  },
  {
   "cell_type": "code",
   "execution_count": null,
   "id": "8d527cf8",
   "metadata": {},
   "outputs": [],
   "source": [
    "# 정수(integer, int)\n",
    "5\n",
    "-20"
   ]
  },
  {
   "cell_type": "code",
   "execution_count": null,
   "id": "36e2cc9e",
   "metadata": {},
   "outputs": [],
   "source": [
    "# 실수(float)\n",
    "3.14\n",
    "-2.5"
   ]
  },
  {
   "cell_type": "code",
   "execution_count": null,
   "id": "151f4471",
   "metadata": {},
   "outputs": [],
   "source": [
    "# 논리데이터 (Bool, Boolean)\n",
    "True\n",
    "False"
   ]
  },
  {
   "cell_type": "code",
   "execution_count": null,
   "id": "9c1be7c7",
   "metadata": {},
   "outputs": [],
   "source": [
    "# 전체 복습"
   ]
  }
 ],
 "metadata": {
  "kernelspec": {
   "display_name": "Python 3",
   "language": "python",
   "name": "python3"
  },
  "language_info": {
   "codemirror_mode": {
    "name": "ipython",
    "version": 3
   },
   "file_extension": ".py",
   "mimetype": "text/x-python",
   "name": "python",
   "nbconvert_exporter": "python",
   "pygments_lexer": "ipython3",
   "version": "3.13.7"
  }
 },
 "nbformat": 4,
 "nbformat_minor": 5
}
