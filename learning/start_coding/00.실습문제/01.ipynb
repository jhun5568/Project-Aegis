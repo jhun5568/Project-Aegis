{
 "cells": [
  {
   "cell_type": "code",
   "execution_count": 2,
   "id": "e1fec086",
   "metadata": {},
   "outputs": [],
   "source": [
    "이름 = \"유미\"\n",
    "레벨 = 6\n",
    "체력 = 950\n",
    "대사 = \"나랑 유미랑!\""
   ]
  },
  {
   "cell_type": "code",
   "execution_count": null,
   "id": "4bb84160",
   "metadata": {},
   "outputs": [
    {
     "name": "stdout",
     "output_type": "stream",
     "text": [
      "유미\n",
      "6\n",
      "950\n",
      "나랑 유미랑!\n"
     ]
    }
   ],
   "source": [
    "char_list = 이름, 레벨, 체력, 대사\n",
    "\n",
    "for data in char_list:\n",
    "    print(data) "
   ]
  },
  {
   "cell_type": "code",
   "execution_count": 24,
   "id": "fae443ba",
   "metadata": {},
   "outputs": [
    {
     "name": "stdout",
     "output_type": "stream",
     "text": [
      "받아라 몬스터볼~! 파이리 넌 내꺼야!\n",
      "받아라 몬스터볼~! 파이리 넌 내꺼야!\n"
     ]
    }
   ],
   "source": [
    "name = input(\"케릭터 이름은?\")\n",
    "print(\"받아라 몬스터볼~!\",name,\"넌 내꺼야!\")\n",
    "# f-string\n",
    "print(f\"받아라 몬스터볼~! {name} 넌 내꺼야!\")"
   ]
  },
  {
   "cell_type": "code",
   "execution_count": 25,
   "id": "325019a7",
   "metadata": {},
   "outputs": [
    {
     "name": "stdout",
     "output_type": "stream",
     "text": [
      "[포켓몬 정보]\n",
      "이름:이상해씨\n",
      "레벨:8\n",
      "[포켓몬 정보]\n",
      "이름:이상해씨\n",
      "레벨:8\n"
     ]
    }
   ],
   "source": [
    "name = input(\"포켓몬 이름을 입력하세요: \")\n",
    "level = input(\"레벨을 입력하세요: \")\n",
    "\n",
    "print(\"[포켓몬 정보]\\n이름:{0}\\n레벨:{1}\".format(name, level))\n",
    "print(f\"[포켓몬 정보]\\n이름:{name}\\n레벨:{level}\")"
   ]
  },
  {
   "cell_type": "code",
   "execution_count": null,
   "id": "7272f12a",
   "metadata": {},
   "outputs": [],
   "source": []
  },
  {
   "cell_type": "code",
   "execution_count": null,
   "id": "bfb3bd8d",
   "metadata": {},
   "outputs": [],
   "source": []
  }
 ],
 "metadata": {
  "kernelspec": {
   "display_name": "Python 3",
   "language": "python",
   "name": "python3"
  },
  "language_info": {
   "codemirror_mode": {
    "name": "ipython",
    "version": 3
   },
   "file_extension": ".py",
   "mimetype": "text/x-python",
   "name": "python",
   "nbconvert_exporter": "python",
   "pygments_lexer": "ipython3",
   "version": "3.13.7"
  }
 },
 "nbformat": 4,
 "nbformat_minor": 5
}
