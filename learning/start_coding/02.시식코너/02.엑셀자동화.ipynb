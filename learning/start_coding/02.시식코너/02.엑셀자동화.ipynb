{
 "cells": [
  {
   "cell_type": "code",
   "execution_count": null,
   "id": "fed5536f",
   "metadata": {},
   "outputs": [],
   "source": [
    "pip install xlwings"
   ]
  },
  {
   "cell_type": "code",
   "execution_count": 2,
   "id": "d1c3dda6",
   "metadata": {},
   "outputs": [],
   "source": [
    "import xlwings as xw\n",
    "wb = xw.Book()"
   ]
  },
  {
   "cell_type": "code",
   "execution_count": 3,
   "id": "00a53466",
   "metadata": {},
   "outputs": [],
   "source": [
    "ws  = wb.sheets['Sheet1']"
   ]
  },
  {
   "cell_type": "code",
   "execution_count": 5,
   "id": "e648397c",
   "metadata": {},
   "outputs": [],
   "source": [
    "ws.range('A1').value = '피카츄'"
   ]
  },
  {
   "cell_type": "code",
   "execution_count": 7,
   "id": "562b0679",
   "metadata": {},
   "outputs": [],
   "source": [
    "ws.range(\"A2\").value = [\"파이리\",\"꼬부기\"]"
   ]
  },
  {
   "cell_type": "markdown",
   "id": "2476c578",
   "metadata": {},
   "source": []
  },
  {
   "cell_type": "code",
   "execution_count": 8,
   "id": "871f2d52",
   "metadata": {},
   "outputs": [],
   "source": [
    "ws.range(\"A2:B2\").copy()"
   ]
  },
  {
   "cell_type": "code",
   "execution_count": 9,
   "id": "9d784432",
   "metadata": {},
   "outputs": [],
   "source": [
    "ws.range(\"A3\").paste()"
   ]
  },
  {
   "cell_type": "code",
   "execution_count": 10,
   "id": "d60a0d11",
   "metadata": {},
   "outputs": [],
   "source": [
    "wb.save(\"포켓몬.xlsx\")"
   ]
  },
  {
   "cell_type": "code",
   "execution_count": 11,
   "id": "8f3b5946",
   "metadata": {},
   "outputs": [],
   "source": [
    "xw.apps.active.kill()"
   ]
  },
  {
   "cell_type": "code",
   "execution_count": null,
   "id": "c03b2c26",
   "metadata": {},
   "outputs": [],
   "source": []
  }
 ],
 "metadata": {
  "kernelspec": {
   "display_name": "Python 3",
   "language": "python",
   "name": "python3"
  },
  "language_info": {
   "codemirror_mode": {
    "name": "ipython",
    "version": 3
   },
   "file_extension": ".py",
   "mimetype": "text/x-python",
   "name": "python",
   "nbconvert_exporter": "python",
   "pygments_lexer": "ipython3",
   "version": "3.13.7"
  }
 },
 "nbformat": 4,
 "nbformat_minor": 5
}
