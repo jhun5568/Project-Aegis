{
 "cells": [
  {
   "cell_type": "code",
   "execution_count": 7,
   "id": "97bcdd42",
   "metadata": {},
   "outputs": [
    {
     "name": "stdout",
     "output_type": "stream",
     "text": [
      "티모\n"
     ]
    }
   ],
   "source": [
    "champ_name = \"티모\"\n",
    "champ_level = 10\n",
    "champ_demage = 90\n",
    "champ_skill = \"버섯깔기\"\n",
    "\n",
    "print(champ_name)"
   ]
  },
  {
   "cell_type": "code",
   "execution_count": 8,
   "id": "6f19d3d4",
   "metadata": {},
   "outputs": [
    {
     "name": "stdout",
     "output_type": "stream",
     "text": [
      "10 90\n"
     ]
    }
   ],
   "source": [
    "print(champ_level, champ_demage)"
   ]
  },
  {
   "cell_type": "code",
   "execution_count": 9,
   "id": "4af60f66",
   "metadata": {},
   "outputs": [
    {
     "name": "stdout",
     "output_type": "stream",
     "text": [
      "챔피언 : 티모\n",
      "스킬 : 버섯깔기\n"
     ]
    }
   ],
   "source": [
    "print(\"챔피언 :\", champ_name)\n",
    "print(\"스킬 :\", champ_skill)"
   ]
  },
  {
   "cell_type": "code",
   "execution_count": 10,
   "id": "76d97f2c",
   "metadata": {},
   "outputs": [],
   "source": [
    "champ_level = 11\n",
    "champ_demage = 95"
   ]
  },
  {
   "cell_type": "code",
   "execution_count": 12,
   "id": "de30d4af",
   "metadata": {},
   "outputs": [
    {
     "name": "stdout",
     "output_type": "stream",
     "text": [
      "11 95\n"
     ]
    }
   ],
   "source": [
    "print(champ_level, champ_demage)"
   ]
  },
  {
   "cell_type": "code",
   "execution_count": null,
   "id": "1b0693c5",
   "metadata": {},
   "outputs": [],
   "source": []
  }
 ],
 "metadata": {
  "kernelspec": {
   "display_name": "Python 3",
   "language": "python",
   "name": "python3"
  },
  "language_info": {
   "codemirror_mode": {
    "name": "ipython",
    "version": 3
   },
   "file_extension": ".py",
   "mimetype": "text/x-python",
   "name": "python",
   "nbconvert_exporter": "python",
   "pygments_lexer": "ipython3",
   "version": "3.13.7"
  }
 },
 "nbformat": 4,
 "nbformat_minor": 5
}
