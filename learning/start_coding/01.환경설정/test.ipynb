{
 "cells": [
  {
   "cell_type": "code",
   "execution_count": null,
   "id": "5b5273a6",
   "metadata": {},
   "outputs": [
    {
     "name": "stdout",
     "output_type": "stream",
     "text": [
      "hello wolrd!\n"
     ]
    }
   ],
   "source": [
    "print(\"hello world!\") #hello world 를 출력하는 명령어\n",
    "# print(\"hello python\") "
   ]
  },
  {
   "cell_type": "code",
   "execution_count": null,
   "id": "e65b441f",
   "metadata": {},
   "outputs": [],
   "source": [
    "print(\"hello python!\")"
   ]
  }
 ],
 "metadata": {
  "kernelspec": {
   "display_name": "Python 3",
   "language": "python",
   "name": "python3"
  },
  "language_info": {
   "codemirror_mode": {
    "name": "ipython",
    "version": 3
   },
   "file_extension": ".py",
   "mimetype": "text/x-python",
   "name": "python",
   "nbconvert_exporter": "python",
   "pygments_lexer": "ipython3",
   "version": "3.13.7"
  }
 },
 "nbformat": 4,
 "nbformat_minor": 5
}
